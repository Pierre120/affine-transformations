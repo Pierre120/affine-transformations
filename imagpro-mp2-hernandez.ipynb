{
 "cells": [
  {
   "cell_type": "markdown",
   "metadata": {},
   "source": [
    "# [IMAGPRO] Machine Problem 2: Affine Transformations\n",
    "$\\text{submitted by: Pierre Vincent C. Hernandez}$"
   ]
  },
  {
   "cell_type": "markdown",
   "metadata": {},
   "source": [
    "### Prerequisites / Environment"
   ]
  },
  {
   "cell_type": "markdown",
   "metadata": {},
   "source": [
    "In order to properly run this notebook and produce it's expected output the \n",
    "Jupyter Notebook must be running using:\n",
    "\n",
    "- **Python**: `^3.10`\n",
    "\n",
    "Here are the list of specific packages and their version that is going to \n",
    "be used in this notebook:\n",
    "\n",
    "- **NumPy**: `1.26.3`\n",
    "- **OpenCV**: `4.9.0.80`\n",
    "- **Matplotlib**: `3.8.3`"
   ]
  },
  {
   "cell_type": "markdown",
   "metadata": {},
   "source": [
    "### Imports"
   ]
  },
  {
   "cell_type": "markdown",
   "metadata": {},
   "source": [
    "Import the necessary packages to run the notebook."
   ]
  },
  {
   "cell_type": "code",
   "execution_count": 5,
   "metadata": {},
   "outputs": [],
   "source": [
    "import cv2 as cv\n",
    "import matplotlib.pyplot as plt\n",
    "import numpy as np\n",
    "import os\n",
    "\n",
    "%matplotlib inline"
   ]
  },
  {
   "cell_type": "markdown",
   "metadata": {},
   "source": [
    "## 1. Data Formatting"
   ]
  },
  {
   "cell_type": "markdown",
   "metadata": {},
   "source": [
    "The images from the `images/` directory will be loaded and resized into `(100, 100, 3)` matrices. \n",
    "\n",
    "Then, resized images is going to be saved as `JPEG` files under the `dataset/` directory."
   ]
  },
  {
   "cell_type": "code",
   "execution_count": 9,
   "metadata": {},
   "outputs": [],
   "source": [
    "# path to image directories\n",
    "images_dir_path = './images/'\n",
    "dataset_path = './dataset/'"
   ]
  },
  {
   "cell_type": "code",
   "execution_count": 8,
   "metadata": {},
   "outputs": [
    {
     "name": "stdout",
     "output_type": "stream",
     "text": [
      "`dataset/` directory created\n"
     ]
    }
   ],
   "source": [
    "# create directory for the dataset\n",
    "if not os.path.exists(dataset_path):\n",
    "  os.mkdir(dataset_path)\n",
    "  print(\"`dataset/` directory created\")\n",
    "else:\n",
    "  print(\"`dataset/` directory already exists\")"
   ]
  },
  {
   "cell_type": "code",
   "execution_count": 10,
   "metadata": {},
   "outputs": [],
   "source": [
    "# perform resizing and saving of images\n",
    "for img_filename in os.listdir(images_dir_path):\n",
    "  resized_img = cv.resize(\n",
    "    dsize=(100, 100),\n",
    "    interpolation=cv.INTER_AREA,\n",
    "    src=cv.imread(images_dir_path + img_filename)\n",
    "  )\n",
    "  cv.imwrite(dataset_path + img_filename, resized_img)"
   ]
  },
  {
   "cell_type": "markdown",
   "metadata": {},
   "source": [
    "## 2. Data Augmentation"
   ]
  },
  {
   "cell_type": "markdown",
   "metadata": {},
   "source": [
    "write text here"
   ]
  },
  {
   "cell_type": "code",
   "execution_count": null,
   "metadata": {},
   "outputs": [],
   "source": [
    "# write code here"
   ]
  }
 ],
 "metadata": {
  "kernelspec": {
   "display_name": "imagpro",
   "language": "python",
   "name": "python3"
  },
  "language_info": {
   "codemirror_mode": {
    "name": "ipython",
    "version": 3
   },
   "file_extension": ".py",
   "mimetype": "text/x-python",
   "name": "python",
   "nbconvert_exporter": "python",
   "pygments_lexer": "ipython3",
   "version": "3.10.13"
  }
 },
 "nbformat": 4,
 "nbformat_minor": 2
}
