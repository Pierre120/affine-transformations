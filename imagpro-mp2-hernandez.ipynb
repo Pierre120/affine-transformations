{
 "cells": [
  {
   "cell_type": "markdown",
   "metadata": {},
   "source": [
    "# [IMAGPRO] Machine Problem 2: Affine Transformations\n",
    "$\\text{submitted by: Pierre Vincent C. Hernandez}$"
   ]
  },
  {
   "cell_type": "markdown",
   "metadata": {},
   "source": [
    "### Prerequisites / Environment"
   ]
  },
  {
   "cell_type": "markdown",
   "metadata": {},
   "source": [
    "In order to properly run this notebook and produce it's expected output the \n",
    "Jupyter Notebook must be running using:\n",
    "\n",
    "- **Python**: `^3.10`\n",
    "\n",
    "Here are the list of specific packages and their version that is going to \n",
    "be used in this notebook:\n",
    "\n",
    "- **NumPy**: `1.26.3`\n",
    "- **OpenCV**: `4.9.0.80`\n",
    "- **Matplotlib**: `3.8.3`"
   ]
  },
  {
   "cell_type": "markdown",
   "metadata": {},
   "source": [
    "### Imports"
   ]
  },
  {
   "cell_type": "markdown",
   "metadata": {},
   "source": [
    "Import the necessary packages to run the notebook."
   ]
  },
  {
   "cell_type": "code",
   "execution_count": null,
   "metadata": {},
   "outputs": [],
   "source": [
    "import cv2 as cv\n",
    "import numpy as np\n",
    "import matplotlib.pyplot as plt\n",
    "import random\n",
    "import os\n",
    "\n",
    "%matplotlib inline"
   ]
  },
  {
   "cell_type": "markdown",
   "metadata": {},
   "source": [
    "## 1. Data Formatting"
   ]
  },
  {
   "cell_type": "markdown",
   "metadata": {},
   "source": [
    "The images from the `images/` directory will be loaded and resized into `(100, 100, 3)` matrices. \n",
    "\n",
    "Then, resized images is going to be saved as `JPEG` files under the `dataset/` directory."
   ]
  },
  {
   "cell_type": "code",
   "execution_count": null,
   "metadata": {},
   "outputs": [],
   "source": [
    "# path to image directories\n",
    "images_dir_path = './images/'\n",
    "dataset_path = './dataset/'"
   ]
  },
  {
   "cell_type": "code",
   "execution_count": null,
   "metadata": {},
   "outputs": [],
   "source": [
    "# create directory for the dataset\n",
    "if not os.path.exists(dataset_path):\n",
    "  os.mkdir(dataset_path)\n",
    "  print(\"`dataset/` directory created\")\n",
    "else:\n",
    "  print(\"`dataset/` directory already exists\")"
   ]
  },
  {
   "cell_type": "code",
   "execution_count": null,
   "metadata": {},
   "outputs": [],
   "source": [
    "# perform resizing and saving of images\n",
    "for img_filename in os.listdir(images_dir_path):\n",
    "  resized_img = cv.resize(\n",
    "    dsize=(100, 100),\n",
    "    interpolation=cv.INTER_AREA,\n",
    "    src=cv.imread(images_dir_path + img_filename)\n",
    "  )\n",
    "  cv.imwrite(dataset_path + img_filename, resized_img)"
   ]
  },
  {
   "cell_type": "markdown",
   "metadata": {},
   "source": [
    "## 2. Data Augmentation"
   ]
  },
  {
   "cell_type": "markdown",
   "metadata": {},
   "source": [
    "**Data Augmentation** is a technique used to artificially *increase the size and diversity \n",
    "of a training dataset* by applying **random but realistic transformations** to the original \n",
    "dataset and adding the resulting transformed images back to the training \n",
    "dataset <sup>[[1][tensorflow_data_aug]]</sup>. Common transformations are **rotation**, \n",
    "**flipping**, and **shifting or spatial translation**. It is a very important technique \n",
    "used in machine learning and deep learning since it improves the generalization and \n",
    "robustness of machine learning models by exposing them to a wider variety of training \n",
    "examples. Thus, it **reduces overfitting**.\n",
    "\n",
    "\n",
    "[tensorflow_data_aug]: https://www.tensorflow.org/tutorials/images/data_augmentation"
   ]
  },
  {
   "cell_type": "markdown",
   "metadata": {},
   "source": [
    "This is where the **importance of understanding Digital Image Processing (DIP)** since it is crucial \n",
    "for **effective data agumentation**.Understanding image processing enables practitioners to **select** \n",
    "augmentation techniques that are relevant to the specific task or domain, and how to **implement** them."
   ]
  },
  {
   "cell_type": "markdown",
   "metadata": {},
   "source": [
    "For the succeeding subsections, there are going to be four geometric transformations \n",
    "that are going to be implemented as its own parametized functions that can be called \n",
    "later during data augmentation. "
   ]
  },
  {
   "cell_type": "markdown",
   "metadata": {},
   "source": [
    "### 2.1 Geometric Transformations"
   ]
  },
  {
   "cell_type": "markdown",
   "metadata": {},
   "source": [
    "Transformations that are going to be used for the data augmentation falls under the \n",
    "**Geometric Transformations**. **Geometric Transformations** is technique used for \n",
    "modifying the geometric properties of an image, such as its position, size, shape or \n",
    "position <sup>[[2][medium_geo_trans]]</sup>. It is also used to align images, remove \n",
    "distorations, resize images, and perform other operations that require changing the \n",
    "spatial arrangement of pixels in an image <sup>[[2][medium_geo_trans]]</sup>.\n",
    "\n",
    "\n",
    "[medium_geo_trans]: https://medium.com/@livajorge7/geometric-transformation-in-image-processing-basics-applications-and-cronj-as-an-expert-f06417193695"
   ]
  },
  {
   "cell_type": "markdown",
   "metadata": {},
   "source": [
    "#### 2.1.1 Noise Injection"
   ]
  },
  {
   "cell_type": "markdown",
   "metadata": {},
   "source": [
    "**Noise Injection** adds a random noise to the image. This going to be implemented \n",
    "by the `add_black_patch()` function, which **randomly puts a black patch over a portion \n",
    "of the image**. It is important to note that the black patch is also going to be \n",
    "random in size and location.\n",
    "\n",
    "This allows the model to be capable of handling obstructions, which is the \n",
    "black patch for this case."
   ]
  },
  {
   "cell_type": "markdown",
   "metadata": {},
   "source": [
    "The default **max patch size** (both `max_patch_height` and `max_patch_width`) would \n",
    "be `30`. This is to avoid fully covering the flower or the image itself, and making it\n",
    "as **realistic** as possible since the flower is still visible to the human eye."
   ]
  },
  {
   "cell_type": "code",
   "execution_count": null,
   "metadata": {},
   "outputs": [],
   "source": [
    "# Function responsible for randomly putting a black patch over a portion of the image\n",
    "def add_black_patch(image, patch_size=None, position=None, max_patch_height=30, max_patch_width=30):\n",
    "  \"\"\"\n",
    "  Adds a black patch to the given image using OpenCV.\n",
    "\n",
    "  Parameters:\n",
    "  - image (numpy.ndarray): Input image (RGB or grayscale).\n",
    "  - patch_size (tuple): Size of the black patch to add (height, width).\n",
    "  - position (tuple): Position to place the top-left corner of the patch (row, column).\n",
    "  - max_patch_height (int): Max height of the black patch.\n",
    "  - max_patch_width (int): Max width of the black patch.\n",
    "\n",
    "  Returns:\n",
    "  - numpy.ndarray: Image with the black patch added.\n",
    "  \"\"\"\n",
    "  # image.shape = (height/row, width/col, channel)\n",
    "  if patch_size is None: \n",
    "    # Generate random patch size\n",
    "    rand_patch_height = np.random.randint(\n",
    "      low=1, \n",
    "      high=max_patch_height\n",
    "    )\n",
    "    rand_patch_width = np.random.randint(\n",
    "      low=1, \n",
    "      high=max_patch_width\n",
    "    )\n",
    "    patch_size = (rand_patch_height, rand_patch_width)\n",
    "  if position is None: \n",
    "    # Generate random patch position\n",
    "    row = np.random.randint(image.shape[0])\n",
    "    col = np.random.randint(image.shape[1])\n",
    "    position = (row, col)\n",
    "  # Check if black patch size is valid\n",
    "  if (patch_size[0] < 0 and patch_size[1] < 0) or (patch_size[0] > max_patch_height and patch_size[1] > max_patch_width):\n",
    "    print('[Warning] Invalid black patch size')\n",
    "    return image.copy()\n",
    "  # Check if black patch size is valid\n",
    "  if (position[0] < 0 and position[1] < 0) or (position[0] >= image.shape[0] and position[1] >= image.shape[1]):\n",
    "    print(print('[Warning] Invalid black patch position'))\n",
    "    return image.copy()\n",
    "  # Extract patch size\n",
    "  patch_height, patch_width = patch_size\n",
    "  # Extract position\n",
    "  top, left = position\n",
    "  # Determine the bottom and right coordinates of the patch\n",
    "  bottom = min(top + patch_height, image.shape[0])\n",
    "  right = min(left + patch_width, image.shape[1])\n",
    "  # Copy original image to avoid modifying it\n",
    "  image_with_black_patch = image.copy()\n",
    "  # Add the black patch\n",
    "  image_with_black_patch[top:bottom, left:right] = 0\n",
    "  \n",
    "  return image_with_black_patch"
   ]
  },
  {
   "cell_type": "markdown",
   "metadata": {},
   "source": [
    "Demonstration of the effect of the `add_black_patch()` can be seen below. \n",
    "Run the cell below multiple times to see that both the size and position \n",
    "of the black patch being added to the image is random."
   ]
  },
  {
   "cell_type": "code",
   "execution_count": null,
   "metadata": {},
   "outputs": [],
   "source": [
    "# For testing the add_black_patch() function\n",
    "raw_img = cv.imread(dataset_path + '0002.jpg')\n",
    "sample_img = cv.cvtColor(raw_img, cv.COLOR_BGR2RGB) # For plotting purposes\n",
    "sample_img_w_black_patch = add_black_patch(sample_img)\n",
    "plt.imshow(sample_img_w_black_patch)\n",
    "# plt.axis('off')"
   ]
  },
  {
   "cell_type": "markdown",
   "metadata": {},
   "source": [
    "#### 2.1.2 Shifting or Spatial Transformation"
   ]
  },
  {
   "cell_type": "markdown",
   "metadata": {},
   "source": [
    "**Shifting or spatial translation** preserves the orientation of the image while shifting \n",
    "all pixels in the same direction and order <sup>[[3][imagpro_slides_5]]</sup>. This is \n",
    "going to be implemented by the `shift_image()` function which **shifts the image sideward or upwards**.\n",
    "\n",
    "This allows the model to be capable identifying the object of focus anywhere in the \n",
    "frame.\n",
    "\n",
    "\n",
    "[imagpro_slides_5]: https://dlsu.instructure.com/courses/158023/files/18754916?module_item_id=4385850"
   ]
  },
  {
   "cell_type": "markdown",
   "metadata": {},
   "source": [
    "The default **max shift value** for the **x-axis** (`max_shift_x`) and \n",
    "**y-axis** (`max_shift_upwards`) would be `25`. This is to consider that the \n",
    "flower is **still visible or mostly visible** in the resulting augmented \n",
    "images. It is **not that realistic anymore or that accurate and sure if half \n",
    "of the flower is or just part of the flower is seen** since some flowers have \n",
    "similarities in some of their parts or features."
   ]
  },
  {
   "cell_type": "code",
   "execution_count": null,
   "metadata": {},
   "outputs": [],
   "source": [
    "# Function responsible for shifting the image sideward or upwards\n",
    "def shift_image(image, xy_shift_amount=None, max_shift_x=25, max_shift_upwards=25, force_shift=True):\n",
    "  \"\"\"\n",
    "  Shifts the given image sideward or upwards using OpenCV.\n",
    "\n",
    "  Parameters:\n",
    "  - image (numpy.ndarray): Input image (RGB or grayscale).\n",
    "  - shift_amount (tuple): Amount of shift in pixels (shift_x, shift_y).\n",
    "  - max_shift_x (int): Maximum shift amount in pixels for sideward shift.\n",
    "  - max_shift_upwards (int): Maximum shift amount in pixels for upward shift.\n",
    "  - force_shift (bool): Determine if the resulting image must be force shifted if given shift amount is 0\n",
    "\n",
    "  Returns:\n",
    "  - numpy.ndarray: Shifted image.\n",
    "  \"\"\"\n",
    "  if xy_shift_amount is None:\n",
    "    # Generate random x-axis and y-axis shift amount\n",
    "    rand_shift_x = random.randint(-max_shift_x, max_shift_x)\n",
    "    rand_shift_y = random.randint(-max_shift_upwards, 0)\n",
    "    xy_shift_amount = (rand_shift_x, rand_shift_y)\n",
    "  if force_shift and xy_shift_amount[0] == 0 and xy_shift_amount[1] == 0:\n",
    "    # Avoid no shift if force_shift is true\n",
    "    rand_shift_x = random.randint(-max_shift_x, max_shift_x)\n",
    "    rand_shift_y = random.randint(-max_shift_upwards, -1)\n",
    "    xy_shift_amount = (rand_shift_x, rand_shift_y)\n",
    "  # Get the shift amount for x-axis and y-axis\n",
    "  shift_x, shift_y = xy_shift_amount\n",
    "  # Define the transformation matrix\n",
    "  M = np.float32([[1, 0, shift_x], [0, 1, shift_y]])\n",
    "  # Determine the dimensions of the output image\n",
    "  rows, cols = image.shape[:2]\n",
    "  # Apply the shift transformation\n",
    "  shifted_image = cv.warpAffine(image, M, (cols, rows))\n",
    "\n",
    "  return shifted_image"
   ]
  },
  {
   "cell_type": "markdown",
   "metadata": {},
   "source": [
    "Demonstration of the effect of the `shift_image()` can be seen below. \n",
    "Run the cell below multiple times to see that both the x-axis and y-axis \n",
    "shift amount is random and shift would only be sideway or upwards."
   ]
  },
  {
   "cell_type": "code",
   "execution_count": null,
   "metadata": {},
   "outputs": [],
   "source": [
    "# For testing the shift_image() function\n",
    "raw_img = cv.imread(dataset_path + '0002.jpg')\n",
    "sample_img = cv.cvtColor(raw_img, cv.COLOR_BGR2RGB) # For plotting purposes\n",
    "shifted_sample_img = shift_image(sample_img)\n",
    "plt.imshow(shifted_sample_img)\n",
    "plt.axis('off')"
   ]
  },
  {
   "cell_type": "markdown",
   "metadata": {},
   "source": [
    "#### 2.1.3 Rotation"
   ]
  },
  {
   "cell_type": "markdown",
   "metadata": {},
   "source": [
    "**Rotation** rotates the image by a certain angle <sup>[[3][imagpro_slides_5]]</sup>. \n",
    "This is going to be implemented by the `rotate_image()` function, which **randomly \n",
    "rotates an image at a random angle**.\n",
    "\n",
    "This allows the model to be tolerant to the angle orientation of the object of focus.\n",
    "\n",
    "\n",
    "[imagpro_slides_5]: https://dlsu.instructure.com/courses/158023/files/18754916?module_item_id=4385850"
   ]
  },
  {
   "cell_type": "code",
   "execution_count": null,
   "metadata": {},
   "outputs": [],
   "source": [
    "# Function responsible for randomly rotating an image at a random angle\n",
    "def rotate_image(image, theta=None):\n",
    "  if theta is None:\n",
    "    theta = 0\n",
    "    # Ensure that the image is rotated at an angle\n",
    "    while theta == 0:\n",
    "      theta = random.randint(-359, 359)\n",
    "  # Determine the dimensions of the image\n",
    "  rows, cols = image.shape[:2]\n",
    "  # Get the center\n",
    "  center = ((cols - 1) / 2.0, (rows - 1) / 2.0)\n",
    "  # Calculate the rotation matrix\n",
    "  M = cv.getRotationMatrix2D(center, theta, 1)\n",
    "  # Apply the rotation transformation\n",
    "  rotated_image = cv.warpAffine(image, M, (cols, rows))\n",
    "\n",
    "  return rotated_image"
   ]
  },
  {
   "cell_type": "markdown",
   "metadata": {},
   "source": [
    "Demonstration of the effect of the `rotate_image()` can be seen below. \n",
    "Run the cell below multiple times to see that the image is being rotated \n",
    "at a random angle every single time."
   ]
  },
  {
   "cell_type": "code",
   "execution_count": null,
   "metadata": {},
   "outputs": [],
   "source": [
    "# For testing the rotate_image() function\n",
    "raw_img = cv.imread(dataset_path + '0008.jpg')\n",
    "sample_img = cv.cvtColor(raw_img, cv.COLOR_BGR2RGB) # For plotting purposes\n",
    "rotated_sample_img = rotate_image(sample_img)\n",
    "plt.imshow(rotated_sample_img)\n",
    "plt.axis('off')"
   ]
  },
  {
   "cell_type": "markdown",
   "metadata": {},
   "source": [
    "#### 2.1.4 Flipping"
   ]
  },
  {
   "cell_type": "markdown",
   "metadata": {},
   "source": [
    "**Flipping** mirrors the image horizontally or vertically. This is going to \n",
    "be implemented by the `flip_image()` function, which **randomly flips an image \n",
    "either vertically or horizontally**.\n",
    "\n",
    "This allows the model to be tolerant to the orientation of the object of focus \n",
    "assuming that a specific feature or part of the object of focus can be or is \n",
    "realistically correct with its mirrored version. "
   ]
  },
  {
   "cell_type": "code",
   "execution_count": null,
   "metadata": {},
   "outputs": [],
   "source": [
    "# Function responsible for randomly flipping an image either vertically or horizontally\n",
    "def flip_image(image, flip_horizontally=False, flip_vertically=False):\n",
    "  if not (flip_vertically or flip_horizontally):\n",
    "    # Generate a random flip direction\n",
    "    flip_horizontally = random.choice([True, False])\n",
    "    flip_vertically = not flip_horizontally\n",
    "  if flip_horizontally:\n",
    "    # Flip around the y-axis (horizontal)\n",
    "    flipped_image = cv.flip(image, 1)\n",
    "  elif flip_vertically:\n",
    "    # Flip around the x-axis (vertical)\n",
    "    flipped_image = cv.flip(image, 0)\n",
    "  \n",
    "  return flipped_image"
   ]
  },
  {
   "cell_type": "markdown",
   "metadata": {},
   "source": [
    "Demonstration of the effect of the `flip_image()` can be seen below. \n",
    "Run the cell below multiple times to see that the image is being flipped \n",
    "either vertically or horizontally."
   ]
  },
  {
   "cell_type": "code",
   "execution_count": null,
   "metadata": {},
   "outputs": [],
   "source": [
    "# For testing the rotate_image() function\n",
    "raw_img = cv.imread(dataset_path + '0008.jpg')\n",
    "sample_img = cv.cvtColor(raw_img, cv.COLOR_BGR2RGB) # For plotting purposes\n",
    "flipped_sample_img = flip_image(sample_img)\n",
    "plt.imshow(flipped_sample_img)\n",
    "plt.axis('off')"
   ]
  },
  {
   "cell_type": "markdown",
   "metadata": {},
   "source": [
    "### 2.2 New Augmented Dataset"
   ]
  },
  {
   "cell_type": "markdown",
   "metadata": {},
   "source": [
    "A new augmented dataset is going to be produced by using the **transformation \n",
    "functions** that was created in the previous sections. The new augmented dataset \n",
    "is going to contain a total of **at least 100 images** (including the resized \n",
    "original images)."
   ]
  },
  {
   "cell_type": "markdown",
   "metadata": {},
   "source": [
    "The `perform_data_augmentation()` function is going to be responsible for calling \n",
    "the passed list of transform functions that is going to be chained or combined together.\n",
    "This allows not only performing the transormations indivdually but also a combination \n",
    "of various transformations. Thus, increasing the size and diversity of the dataset."
   ]
  },
  {
   "cell_type": "code",
   "execution_count": null,
   "metadata": {},
   "outputs": [],
   "source": [
    "def perform_data_augmentation(original_image, transform_funcs):\n",
    "  \"\"\"\n",
    "  Performs data augmentation by transforming the image using \n",
    "  the transformation function/s passed.\n",
    "\n",
    "  Parameters:\n",
    "  - original_image (numpy.ndarray): Input image (RGB or grayscale).\n",
    "  - transform_funcs (list): List containing the transformation functions.\n",
    "\n",
    "  Returns:\n",
    "  - numpy.ndarray: Transformed image.\n",
    "  \"\"\"\n",
    "  transformed_img = original_image\n",
    "  for transform_func in transform_funcs:\n",
    "    transformed_img = transform_func(transformed_img)\n",
    "  return transformed_img"
   ]
  },
  {
   "cell_type": "markdown",
   "metadata": {},
   "source": [
    "As seen in the code cell below, the `num_each_variation` variable is responsible for the \n",
    "number of data augmentation to be produced for each variation and combination of transform \n",
    "functions. This is to ensure that all type of *\"scenario\"* are equally distributed, and \n",
    "represented in the dataset. To reiterate, the combination of transformations adds to the \n",
    "diversity and richness of the dataset.\n",
    "\n",
    "Here are the list of variation and combinations:\n",
    "\n",
    "- `patching`\n",
    "- `shifting`\n",
    "- `rotation`\n",
    "- `flipping`\n",
    "- `patching`, and `flipping`\n",
    "- `patching`, and `shifting`\n",
    "- `patching`, and `rotation`\n",
    "- `patching`, `flipping`, and `shifting`\n",
    "- `patching`, `flipping`, and `rotation`\n",
    "- `flipping`, and `shifting`\n",
    "- `flipping`, and `rotation`\n",
    "\n",
    "Based on the list, it is noticable that the `shifting` and `rotation` transformations \n",
    "are not combined together. This is because it has a probability of slicing or cropping \n",
    "the flower (object of focus) from the frame of the image, which might cause a problem \n",
    "since the object of focus is not properly seen and identifiable. Another noticable \n",
    "combination is that `patching` has the highest priority, then `flipping` comes next, and \n",
    "both the `shifting` and `rotating` comes last. This is because if the `shifting` or `rotating` \n",
    "comes first, the patch might be placed on the empty region--black pixels outside of original frame."
   ]
  },
  {
   "cell_type": "code",
   "execution_count": null,
   "metadata": {},
   "outputs": [],
   "source": [
    "# Get filename of the original images\n",
    "original_img_filenames = os.listdir(dataset_path)\n",
    "num_original_imgs = len(original_img_filenames)\n",
    "num_augmented_imgs = 0\n",
    "num_each_variation = 5 # TODO: Increase as needed\n",
    "\n",
    "# file = original_img_filenames[0]\n",
    "# print(file[:-4], 'type', file[-4:])\n",
    "\n",
    "# perform data augmentation\n",
    "print('Performing Data Augmentation...')\n",
    "for filename in original_img_filenames:\n",
    "  src_path = dataset_path + filename\n",
    "  original_img = cv.imread(src_path)\n",
    "  print(f'[ {filename} ] Augmenting data...')\n",
    "\n",
    "  # Perform patching\n",
    "  # print(\"[ %s ] Data Augmentation with patching...\" % (filename))\n",
    "  for i in range(num_each_variation):\n",
    "    # img_w_black_patch = add_black_patch(original_img)\n",
    "    img_w_black_patch = perform_data_augmentation(original_img, [\n",
    "      add_black_patch\n",
    "    ])\n",
    "    aug_img_filename = f'{src_path[:-4]}_aug_patch_{i}.jpg'\n",
    "    cv.imwrite(aug_img_filename, img_w_black_patch)\n",
    "  # print('Done.')\n",
    "\n",
    "  # Perform shifting\n",
    "  # print(\"[ %s ] Data Augmentation with shifting...\" % (filename))\n",
    "  for i in range(num_each_variation):\n",
    "    # shifted_image = shift_image(original_img)\n",
    "    shifted_image = perform_data_augmentation(original_img, [\n",
    "      shift_image\n",
    "    ])\n",
    "    aug_img_filename = f'{src_path[:-4]}_aug_shift_{i}.jpg'\n",
    "    cv.imwrite(aug_img_filename, shifted_image)\n",
    "  # print('Done.')\n",
    "\n",
    "  # Perform rotation\n",
    "  # print(\"[ %s ] Data Augmentation with rotation...\" % (filename))\n",
    "  for i in range(num_each_variation):\n",
    "    # rotated_image = rotate_image(original_img)\n",
    "    rotated_image = perform_data_augmentation(original_img, [\n",
    "      rotate_image\n",
    "    ])\n",
    "    aug_img_filename = f'{src_path[:-4]}_aug_rotate_{i}.jpg'\n",
    "    cv.imwrite(aug_img_filename, rotated_image)\n",
    "  # print('Done.')\n",
    "\n",
    "  # Perform flipping\n",
    "  # print(\"[ %s ] Data Augmentation with flipping...\" % (filename))\n",
    "  for i in range(num_each_variation):\n",
    "    # flipped_image = flip_image(original_img)\n",
    "    flipped_image = perform_data_augmentation(original_img, [\n",
    "      flip_image\n",
    "    ])\n",
    "    aug_img_filename = f'{src_path[:-4]}_aug_flip_{i}.jpg'\n",
    "    cv.imwrite(aug_img_filename, flipped_image)\n",
    "  # print('Done.')\n",
    "\n",
    "  # Perform patching, and flipping\n",
    "  # print(\"[ %s ] Data Augmentation with patching, and flipping...\" % (filename))\n",
    "  for i in range(num_each_variation):\n",
    "    pf_image = perform_data_augmentation(original_img, [\n",
    "      add_black_patch,\n",
    "      flip_image\n",
    "    ])\n",
    "    aug_img_filename = f'{src_path[:-4]}_aug_patch_flip_{i}.jpg'\n",
    "    cv.imwrite(aug_img_filename, pf_image)\n",
    "  # print('Done.')\n",
    "\n",
    "  # Perform patching, and shifting\n",
    "  # print(\"[ %s ] Data Augmentation with patching, and shifting...\" % (filename))\n",
    "  for i in range(num_each_variation):\n",
    "    ps_image = perform_data_augmentation(original_img, [\n",
    "      add_black_patch,\n",
    "      shift_image\n",
    "    ])\n",
    "    aug_img_filename = f'{src_path[:-4]}_aug_patch_shift_{i}.jpg'\n",
    "    cv.imwrite(aug_img_filename, ps_image)\n",
    "  # print('Done.')\n",
    "\n",
    "  # Perform patching, and rotation\n",
    "  # print(\"[ %s ] Data Augmentation with patching, and rotation...\" % (filename))\n",
    "  for i in range(num_each_variation):\n",
    "    pr_image = perform_data_augmentation(original_img, [\n",
    "      add_black_patch,\n",
    "      rotate_image\n",
    "    ])\n",
    "    aug_img_filename = f'{src_path[:-4]}_aug_patch_rotate_{i}.jpg'\n",
    "    cv.imwrite(aug_img_filename, pr_image)\n",
    "  # print('Done.')\n",
    "\n",
    "  # Perform patching, flipping, and shifting\n",
    "  # print(\"[ %s ] Data Augmentation with patching, flipping, and shifting...\" % (filename))\n",
    "  for i in range(num_each_variation):\n",
    "    pfs_image = perform_data_augmentation(original_img, [\n",
    "      add_black_patch,\n",
    "      flip_image,\n",
    "      shift_image\n",
    "    ])\n",
    "    aug_img_filename = f'{src_path[:-4]}_aug_patch_flip_shift_{i}.jpg'\n",
    "    cv.imwrite(aug_img_filename, pfs_image)\n",
    "  # print('Done.')\n",
    "\n",
    "  # Perform patching, flipping, and rotation\n",
    "  # print(\"[ %s ] Data Augmentation with patching, flipping, and rotation...\" % (filename))\n",
    "  for i in range(num_each_variation):\n",
    "    pfr_image = perform_data_augmentation(original_img, [\n",
    "      add_black_patch,\n",
    "      flip_image,\n",
    "      rotate_image\n",
    "    ])\n",
    "    aug_img_filename = f'{src_path[:-4]}_aug_patch_flip_rotate_{i}.jpg'\n",
    "    cv.imwrite(aug_img_filename, pfr_image)\n",
    "  # print('Done.')\n",
    "\n",
    "  # Perform flipping, and shifting\n",
    "  # print(\"[ %s ] Data Augmentation with flipping, and shifting...\" % (filename))\n",
    "  for i in range(num_each_variation):\n",
    "    fs_image = perform_data_augmentation(original_img, [\n",
    "      flip_image,\n",
    "      shift_image\n",
    "    ])\n",
    "    aug_img_filename = f'{src_path[:-4]}_aug_flip_shift_{i}.jpg'\n",
    "    cv.imwrite(aug_img_filename, fs_image)\n",
    "  # print('Done.')\n",
    "\n",
    "  # Perform flipping, and rotation\n",
    "  # print(\"[ %s ] Data Augmentation with flipping, and rotation...\" % (filename))\n",
    "  for i in range(num_each_variation):\n",
    "    fr_image = perform_data_augmentation(original_img, [\n",
    "      flip_image,\n",
    "      rotate_image\n",
    "    ])\n",
    "    aug_img_filename = f'{src_path[:-4]}_aug_flip_rotate_{i}.jpg'\n",
    "    cv.imwrite(aug_img_filename, fr_image)\n",
    "  # print('Done.')\n",
    "\n",
    "  print(f'[ {filename} ] Done.')"
   ]
  },
  {
   "cell_type": "markdown",
   "metadata": {},
   "source": [
    "## Conclusion and Recommendation"
   ]
  },
  {
   "cell_type": "markdown",
   "metadata": {},
   "source": [
    "Given the specifications of the project it is safe to assume that the dataset \n",
    "flower detection or classification. Thus, for the sake of providing a scope \n",
    "of what data augmentation techniques that are applicable and not applicable \n",
    "the idea that the dataset is for flower detection or classification is going \n",
    "to be used.\n",
    "\n",
    "Other than the geometric transformations implemented in the notebook, the **Color \n",
    "Jittering or Color Transformations** is also an applicable data augmentation \n",
    "technique since modifying the color properties like brightness, contrast, \n",
    "or saturation can simulate variations in lighting conditions or camera settings.\n",
    "\n",
    "As for the not applicable data augmentation techniques for the said model, it \n",
    "includes **Scaling or Zooming**, and **Shearing**. **Scaling or Zooming** is not \n",
    "applicable because oftentimes the flowers are photographed at a consistent distance \n",
    "where it is clearly identifiable, and artificially zooming may not reflect realistic \n",
    "scenarios. **Zooming out or upscaling** would render the flower to be identical \n",
    "to a different object when it is zoomed out and is very tiny to the human eyes while \n",
    "**zooming in or downscaling** could only show a part of a flower which could also be \n",
    "identical to other objects. Additionally, flowers typically maintain their shape \n",
    "without significant deformation, so **shearing** may not be as relevant.\n",
    "\n",
    "It is important to note that the recommended applicable and applicable data augmentation \n",
    "techniques are solely based on the assumption that the dataset is going to be used for \n",
    "flower detection or classification. Overall, choosing appropriate transformations requires \n",
    "considering the characteristics of the dataset, the nature of the task, and the expected \n",
    "variability in real-world scenarios. It's essential to balance augmentation techniques \n",
    "that enhance dataset diversity and realism without introducing unrealistic variations \n",
    "that could confuse the model."
   ]
  }
 ],
 "metadata": {
  "kernelspec": {
   "display_name": "imagpro",
   "language": "python",
   "name": "python3"
  },
  "language_info": {
   "codemirror_mode": {
    "name": "ipython",
    "version": 3
   },
   "file_extension": ".py",
   "mimetype": "text/x-python",
   "name": "python",
   "nbconvert_exporter": "python",
   "pygments_lexer": "ipython3",
   "version": "3.10.13"
  }
 },
 "nbformat": 4,
 "nbformat_minor": 2
}
