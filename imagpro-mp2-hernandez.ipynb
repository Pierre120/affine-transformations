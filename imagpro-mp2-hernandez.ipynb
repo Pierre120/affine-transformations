{
 "cells": [
  {
   "cell_type": "markdown",
   "metadata": {},
   "source": [
    "# [IMAGPRO] Machine Problem 2: Affine Transformations\n",
    "$\\text{submitted by: Pierre Vincent C. Hernandez}$"
   ]
  },
  {
   "cell_type": "markdown",
   "metadata": {},
   "source": [
    "### Prerequisites / Environment"
   ]
  },
  {
   "cell_type": "markdown",
   "metadata": {},
   "source": [
    "In order to properly run this notebook and produce it's expected output the \n",
    "Jupyter Notebook must be running using:\n",
    "\n",
    "- **Python**: `^3.10`\n",
    "\n",
    "Here are the list of specific packages and their version that is going to \n",
    "be used in this notebook:\n",
    "\n",
    "- **NumPy**: `1.26.3`\n",
    "- **OpenCV**: `4.9.0.80`\n",
    "- **Matplotlib**: `3.8.3`"
   ]
  },
  {
   "cell_type": "markdown",
   "metadata": {},
   "source": [
    "### Imports"
   ]
  },
  {
   "cell_type": "markdown",
   "metadata": {},
   "source": [
    "Import the necessary packages to run the notebook."
   ]
  },
  {
   "cell_type": "code",
   "execution_count": 41,
   "metadata": {},
   "outputs": [],
   "source": [
    "import cv2 as cv\n",
    "import numpy as np\n",
    "import matplotlib.pyplot as plt\n",
    "import random\n",
    "import os\n",
    "\n",
    "%matplotlib inline"
   ]
  },
  {
   "cell_type": "markdown",
   "metadata": {},
   "source": [
    "## 1. Data Formatting"
   ]
  },
  {
   "cell_type": "markdown",
   "metadata": {},
   "source": [
    "The images from the `images/` directory will be loaded and resized into `(100, 100, 3)` matrices. \n",
    "\n",
    "Then, resized images is going to be saved as `JPEG` files under the `dataset/` directory."
   ]
  },
  {
   "cell_type": "code",
   "execution_count": 2,
   "metadata": {},
   "outputs": [],
   "source": [
    "# path to image directories\n",
    "images_dir_path = './images/'\n",
    "dataset_path = './dataset/'"
   ]
  },
  {
   "cell_type": "code",
   "execution_count": 3,
   "metadata": {},
   "outputs": [
    {
     "name": "stdout",
     "output_type": "stream",
     "text": [
      "`dataset/` directory already exists\n"
     ]
    }
   ],
   "source": [
    "# create directory for the dataset\n",
    "if not os.path.exists(dataset_path):\n",
    "  os.mkdir(dataset_path)\n",
    "  print(\"`dataset/` directory created\")\n",
    "else:\n",
    "  print(\"`dataset/` directory already exists\")"
   ]
  },
  {
   "cell_type": "code",
   "execution_count": 4,
   "metadata": {},
   "outputs": [],
   "source": [
    "# perform resizing and saving of images\n",
    "for img_filename in os.listdir(images_dir_path):\n",
    "  resized_img = cv.resize(\n",
    "    dsize=(100, 100),\n",
    "    interpolation=cv.INTER_AREA,\n",
    "    src=cv.imread(images_dir_path + img_filename)\n",
    "  )\n",
    "  cv.imwrite(dataset_path + img_filename, resized_img)"
   ]
  },
  {
   "cell_type": "code",
   "execution_count": 5,
   "metadata": {},
   "outputs": [],
   "source": [
    "# sample_img = cv.imread(images_dir_path + '0001.jpg')\n",
    "# print(sample_img.shape)\n",
    "# print(sample_img[0].shape)\n",
    "# print(sample_img[0][0].shape)"
   ]
  },
  {
   "cell_type": "markdown",
   "metadata": {},
   "source": [
    "## 2. Data Augmentation"
   ]
  },
  {
   "cell_type": "markdown",
   "metadata": {},
   "source": [
    "**Data Augmentation** is a technique used to artificially *increase the size and diversity \n",
    "of a training dataset* by applying **random but realistic transformations** to the original \n",
    "dataset and adding the resulting transformed images back to the training \n",
    "dataset <sup>[[1][tensorflow_data_aug]]</sup>. Common transformations are **rotation**, \n",
    "**flipping**, and **shifting or spatial translation**. It is a very important technique \n",
    "used in machine learning and deep learning since it improves the generalization and \n",
    "robustness of machine learning models by exposing them to a wider variety of training \n",
    "examples. Thus, it **reduces overfitting**.\n",
    "\n",
    "\n",
    "[tensorflow_data_aug]: https://www.tensorflow.org/tutorials/images/data_augmentation"
   ]
  },
  {
   "cell_type": "markdown",
   "metadata": {},
   "source": [
    "This is where the **importance of understanding Digital Image Processing (DIP)** since it is crucial \n",
    "for **effective data agumentation**.Understanding image processing enables practitioners to **select** \n",
    "augmentation techniques that are relevant to the specific task or domain, and how to **implement** them."
   ]
  },
  {
   "cell_type": "markdown",
   "metadata": {},
   "source": [
    "For the succeeding subsections, there are going to be four geometric transformations \n",
    "that are going to be implemented as its own parametized functions that can be called \n",
    "later during data augmentation. "
   ]
  },
  {
   "cell_type": "markdown",
   "metadata": {},
   "source": [
    "### 2.1 Geometric Transformations"
   ]
  },
  {
   "cell_type": "markdown",
   "metadata": {},
   "source": [
    "Transformations that are going to be used for the data augmentation falls under the \n",
    "**Geometric Transformations**. **Geometric Transformations** is technique used for \n",
    "modifying the geometric properties of an image, such as its position, size, shape or \n",
    "position <sup>[[2][medium_geo_trans]]</sup>. It is also used to align images, remove \n",
    "distorations, resize images, and perform other operations that require changing the \n",
    "spatial arrangement of pixels in an image <sup>[[2][medium_geo_trans]]</sup>.\n",
    "\n",
    "\n",
    "[medium_geo_trans]: https://medium.com/@livajorge7/geometric-transformation-in-image-processing-basics-applications-and-cronj-as-an-expert-f06417193695"
   ]
  },
  {
   "cell_type": "markdown",
   "metadata": {},
   "source": [
    "#### 2.1.1 Noise Injection"
   ]
  },
  {
   "cell_type": "markdown",
   "metadata": {},
   "source": [
    "**Noise Injection** adds a random noise to the image. This going to be implemented \n",
    "by **randomly putting a black patch over a portion of the image**. It is important to \n",
    "note that the black patch is also going to be random in size and location.\n",
    "\n",
    "This allows the model to be capable of handling obstructions, which is the \n",
    "black patch for this case."
   ]
  },
  {
   "cell_type": "code",
   "execution_count": 51,
   "metadata": {},
   "outputs": [],
   "source": [
    "# implement code here\n",
    "def add_black_patch(image, patch_size=None, position=None):\n",
    "  \"\"\"\n",
    "  Adds a black patch to the given image using OpenCV.\n",
    "\n",
    "  Parameters:\n",
    "  - image (numpy.ndarray): Input image (RGB or grayscale).\n",
    "  - patch_size (tuple): Size of the black patch to add (height, width).\n",
    "  - position (tuple): Position to place the top-left corner of the patch (row, column).\n",
    "\n",
    "  Returns:\n",
    "  - numpy.ndarray: Image with the black patch added.\n",
    "  \"\"\"\n",
    "  # image.shape = (height/row, width/col, channel)\n",
    "  if patch_size is None: \n",
    "    # Generate random patch size\n",
    "    rand_patch_height = np.random.randint(\n",
    "      low=1, \n",
    "      high=image.shape[0]\n",
    "    )\n",
    "    rand_patch_width = np.random.randint(\n",
    "      low=1, \n",
    "      high=image.shape[1]\n",
    "    )\n",
    "    patch_size = (rand_patch_height, rand_patch_width)\n",
    "  if position is None: \n",
    "    # Generate random patch position\n",
    "    row = np.random.randint(image.shape[0])\n",
    "    col = np.random.randint(image.shape[1])\n",
    "    position = (row, col)\n",
    "  # Check if black patch size is valid\n",
    "  if patch_size[0] < 0 and patch_size[1] < 0:\n",
    "    print('[Warning] Invalid black patch size')\n",
    "    return image.copy()\n",
    "  # Check if black patch size is valid\n",
    "  if position[0] < 0 and position[1] < 0:\n",
    "    print(print('[Warning] Invalid black patch position'))\n",
    "    return image.copy()\n",
    "  # Extract patch size\n",
    "  patch_height, patch_width = patch_size\n",
    "  # Extract position\n",
    "  top, left = position\n",
    "  # Determine the bottom and right coordinates of the patch\n",
    "  bottom = min(top + patch_height, image.shape[0])\n",
    "  right = min(left + patch_width, image.shape[1])\n",
    "  # Copy original image to avoid modifying it\n",
    "  image_with_black_patch = image.copy()\n",
    "  # Add the black patch\n",
    "  image_with_black_patch[top:bottom, left:right] = 0\n",
    "  \n",
    "  return image_with_black_patch"
   ]
  },
  {
   "cell_type": "markdown",
   "metadata": {},
   "source": [
    "Demonstration of the effect of the `add_black_patch()` can be seen below. \n",
    "Run the cell below multiple times to see that both the size and position \n",
    "of the black patch being added to the image is random."
   ]
  },
  {
   "cell_type": "code",
   "execution_count": 58,
   "metadata": {},
   "outputs": [
    {
     "data": {
      "text/plain": [
       "(-0.5, 99.5, 99.5, -0.5)"
      ]
     },
     "execution_count": 58,
     "metadata": {},
     "output_type": "execute_result"
    },
    {
     "data": {
      "image/png": "[encoded data removed]",
      "text/plain": [
       "<Figure size 640x480 with 1 Axes>"
      ]
     },
     "metadata": {},
     "output_type": "display_data"
    }
   ],
   "source": [
    "# For testing the add_black_patch() function\n",
    "raw_img = cv.imread(dataset_path + '0003.jpg')\n",
    "sample_img = cv.cvtColor(raw_img, cv.COLOR_BGR2RGB) # For plotting purposes\n",
    "sample_img_w_black_patch = add_black_patch(sample_img)\n",
    "plt.imshow(sample_img_w_black_patch)\n",
    "plt.axis('off')"
   ]
  },
  {
   "cell_type": "markdown",
   "metadata": {},
   "source": [
    "#### 2.1.2 Shifting or Spatial Transformation"
   ]
  },
  {
   "cell_type": "markdown",
   "metadata": {},
   "source": [
    "Shifting or spatial translation preserves the orientation of the image while shifting \n",
    "all pixels in the same direction and order <sup>[[3][imagpro_slides_5]]</sup>. This is \n",
    "going to be implemented by shifting the image **sideward or upwards**.\n",
    "\n",
    "This allows the model to be capable identifying the object of focus anywhere in the \n",
    "frame.\n",
    "\n",
    "\n",
    "[imagpro_slides_5]: https://dlsu.instructure.com/courses/158023/files/18754916?module_item_id=4385850"
   ]
  },
  {
   "cell_type": "markdown",
   "metadata": {},
   "source": [
    "Given default **max shift value** for the **x-axis** and **y-axis** would be `25`. \n",
    "This is to consider that the flower is **still visible or mostly visible** in the \n",
    "resulting augmented images. It is **not that realistic anymore or that accurate \n",
    "and sure if half of the flower is or just part of the flower is seen** since some \n",
    "flowers have similarities in some of their parts or features."
   ]
  },
  {
   "cell_type": "code",
   "execution_count": 60,
   "metadata": {},
   "outputs": [],
   "source": [
    "# implement code here\n",
    "def shift_image(image, xy_shift_amount=None, max_shift_x=25, max_shift_upwards=25, force_shift=True):\n",
    "  \"\"\"\n",
    "  Shifts the given image sideward or upwards using OpenCV.\n",
    "\n",
    "  Parameters:\n",
    "  - image (numpy.ndarray): Input image (RGB or grayscale).\n",
    "  - shift_amount (tuple): Amount of shift in pixels (shift_x, shift_y).\n",
    "  - max_shift_x (int): Maximum shift amount in pixels for sideward shift.\n",
    "  - max_shift_upwards (int): Maximum shift amount in pixels for upward shift.\n",
    "  - force_shift (bool): Determine if the resulting image must be force shifted if given shift amount is 0\n",
    "\n",
    "  Returns:\n",
    "  - numpy.ndarray: Shifted image.\n",
    "  \"\"\"\n",
    "  if xy_shift_amount is None:\n",
    "    # Generate random x-axis and y-axis shift amount\n",
    "    rand_shift_x = random.randint(-max_shift_x, max_shift_x)\n",
    "    rand_shift_y = random.randint(-max_shift_upwards, 0)\n",
    "    xy_shift_amount = (rand_shift_x, rand_shift_y)\n",
    "  if force_shift and xy_shift_amount[0] == 0 and xy_shift_amount[1] == 0:\n",
    "    # Avoid no shift if force_shift is true\n",
    "    rand_shift_x = random.randint(-max_shift_x, max_shift_x)\n",
    "    rand_shift_y = random.randint(-max_shift_upwards, -1)\n",
    "    xy_shift_amount = (rand_shift_x, rand_shift_y)\n",
    "  # Get the shift amount for x-axis and y-axis\n",
    "  shift_x, shift_y = xy_shift_amount\n",
    "  # Define the transformation matrix\n",
    "  M = np.float32([[1, 0, shift_x], [0, 1, shift_y]])\n",
    "  # Determine the dimensions of the output image\n",
    "  rows, cols = image.shape[:2]\n",
    "  # Apply the shift transformation\n",
    "  shifted_image = cv.warpAffine(image, M, (cols, rows))\n",
    "\n",
    "  return shifted_image"
   ]
  },
  {
   "cell_type": "markdown",
   "metadata": {},
   "source": [
    "Demonstration of the effect of the `shift_image()` can be seen below. \n",
    "Run the cell below multiple times to see that both the x-axis and y-axis \n",
    "shift amount is random and shift would only be sideway or upwards."
   ]
  },
  {
   "cell_type": "code",
   "execution_count": 67,
   "metadata": {},
   "outputs": [
    {
     "data": {
      "text/plain": [
       "(-0.5, 99.5, 99.5, -0.5)"
      ]
     },
     "execution_count": 67,
     "metadata": {},
     "output_type": "execute_result"
    },
    {
     "data": {
      "image/png": "[encoded data removed]",
      "text/plain": [
       "<Figure size 640x480 with 1 Axes>"
      ]
     },
     "metadata": {},
     "output_type": "display_data"
    }
   ],
   "source": [
    "# For testing the shift_image() function\n",
    "raw_img = cv.imread(dataset_path + '0002.jpg')\n",
    "sample_img = cv.cvtColor(raw_img, cv.COLOR_BGR2RGB) # For plotting purposes\n",
    "shifted_sample_img = shift_image(sample_img)\n",
    "plt.imshow(shifted_sample_img)\n",
    "plt.axis('off')"
   ]
  },
  {
   "cell_type": "markdown",
   "metadata": {},
   "source": [
    "#### 2.1.3 Rotation"
   ]
  },
  {
   "cell_type": "markdown",
   "metadata": {},
   "source": [
    "Rotation rotates the image by a certain angle <sup>[[3][imagpro_slides_5]]</sup>.\n",
    "\n",
    "This allows the model to be tolerant to the angle orientation of the object of focus.\n",
    "\n",
    "\n",
    "[imagpro_slides_5]: https://dlsu.instructure.com/courses/158023/files/18754916?module_item_id=4385850"
   ]
  },
  {
   "cell_type": "code",
   "execution_count": null,
   "metadata": {},
   "outputs": [],
   "source": [
    "# implement code here"
   ]
  },
  {
   "cell_type": "markdown",
   "metadata": {},
   "source": [
    "#### 2.1.4 Flipping"
   ]
  },
  {
   "cell_type": "markdown",
   "metadata": {},
   "source": [
    "Flipping mirrors the image horizontally or vertically.\n",
    "\n",
    "This allows the model to be tolerant to the orientation of the object of focus \n",
    "assuming that a specific feature or part of the object of focus can be or is \n",
    "realistically correct with its mirrored version. "
   ]
  },
  {
   "cell_type": "code",
   "execution_count": null,
   "metadata": {},
   "outputs": [],
   "source": [
    "# write code here"
   ]
  },
  {
   "cell_type": "markdown",
   "metadata": {},
   "source": [
    "### 2.2 New Augmented Dataset"
   ]
  },
  {
   "cell_type": "markdown",
   "metadata": {},
   "source": [
    "A new augmented dataset is going to be produced by using the **transformation \n",
    "functions** that was created in the previous sections. The new augmented dataset \n",
    "is going to contain a total of **at least 100 images** (including the resized \n",
    "original images)."
   ]
  },
  {
   "cell_type": "code",
   "execution_count": null,
   "metadata": {},
   "outputs": [],
   "source": [
    "# perform data augmentation here"
   ]
  },
  {
   "cell_type": "markdown",
   "metadata": {},
   "source": [
    "## Conclusion and Recommendation"
   ]
  },
  {
   "cell_type": "markdown",
   "metadata": {},
   "source": [
    "Given the specifications of the project it is safe to assume that the dataset \n",
    "flower detection or classification. Thus, for the sake of providing a scope \n",
    "of what data augmentation techniques that are applicable and not applicable \n",
    "the idea that the dataset is for flower detection or classification is going \n",
    "to be used.\n",
    "\n",
    "Other than the geometric transformations implemented in the notebook, the **Color \n",
    "Jittering or Color Transformations** is also an applicable data augmentation \n",
    "technique since modifying the color properties like brightness, contrast, \n",
    "or saturation can simulate variations in lighting conditions or camera settings.\n",
    "\n",
    "As for the not applicable data augmentation techniques for the said model, it \n",
    "includes **Scaling or Zooming**, and **Shearing**. **Scaling or Zooming** is not \n",
    "applicable because oftentimes the flowers are photographed at a consistent distance \n",
    "where it is clearly identifiable, and artificially zooming may not reflect realistic \n",
    "scenarios. **Zooming out or upscaling** would render the flower to be identical \n",
    "to a different object when it is zoomed out and is very tiny to the human eyes while \n",
    "**zooming in or downscaling** could only show a part of a flower which could also be \n",
    "identical to other objects. Additionally, flowers typically maintain their shape \n",
    "without significant deformation, so **shearing** may not be as relevant.\n",
    "\n",
    "It is important to note that the recommended applicable and applicable data augmentation \n",
    "techniques are solely based on the assumption that the dataset is going to be used for \n",
    "flower detection or classification. Overall, choosing appropriate transformations requires \n",
    "considering the characteristics of the dataset, the nature of the task, and the expected \n",
    "variability in real-world scenarios. It's essential to balance augmentation techniques \n",
    "that enhance dataset diversity and realism without introducing unrealistic variations \n",
    "that could confuse the model."
   ]
  }
 ],
 "metadata": {
  "kernelspec": {
   "display_name": "imagpro",
   "language": "python",
   "name": "python3"
  },
  "language_info": {
   "codemirror_mode": {
    "name": "ipython",
    "version": 3
   },
   "file_extension": ".py",
   "mimetype": "text/x-python",
   "name": "python",
   "nbconvert_exporter": "python",
   "pygments_lexer": "ipython3",
   "version": "3.10.13"
  }
 },
 "nbformat": 4,
 "nbformat_minor": 2
}
